{
 "cells": [
  {
   "cell_type": "markdown",
   "id": "04d5d0d0-f4c9-43f2-b811-bdac5434fff9",
   "metadata": {},
   "source": [
    "#### read, clean data and load into csv"
   ]
  },
  {
   "cell_type": "code",
   "execution_count": 1,
   "id": "6cb4322b-e77b-4e18-aeb4-da853c0d2910",
   "metadata": {},
   "outputs": [],
   "source": [
    "import numpy as np\n",
    "import pandas as pd"
   ]
  },
  {
   "cell_type": "code",
   "execution_count": 2,
   "id": "23ea473d-374d-4208-bd1d-c8af0b89ad42",
   "metadata": {},
   "outputs": [],
   "source": [
    "# read data from xls file\n",
    "\n",
    "df1 = pd.read_excel(\"./Data/calculated-data.xls\", header = 0)\n",
    "df2 = pd.read_excel(\"./Data/descriptor-data.xls\", header = 0)\n"
   ]
  },
  {
   "cell_type": "code",
   "execution_count": 3,
   "id": "b3ff36a4-f611-483c-a5ac-ef1a6e3d7d2a",
   "metadata": {},
   "outputs": [
    {
     "name": "stdout",
     "output_type": "stream",
     "text": [
      "(178, 8, 11)\n"
     ]
    }
   ],
   "source": [
    "# combine descriptor and structure information (input x)\n",
    "\n",
    "datax = []\n",
    "for i in range(178):\n",
    "    matrix = []\n",
    "    for j in range(8):\n",
    "        ele = df1.iloc[i,j]\n",
    "        data = []\n",
    "        for k in range(31):\n",
    "            if df2.iloc[k,0] == ele:\n",
    "                for m in range(1,12):\n",
    "                    data.append(df2.iloc[k,m])\n",
    "            else:\n",
    "                k += 1\n",
    "\n",
    "        matrix.append(data)\n",
    "        #print(matrix)\n",
    "\n",
    "    matrix = np.array(matrix)\n",
    "    #trans_matrix = matrix.T\n",
    "    \n",
    "    datax.append(matrix)\n",
    "\n",
    "datax = np.array(datax)\n",
    "print(datax.shape)\n",
    "#print(datax[0])\n",
    "\n",
    "np.save('./Data/datax.npy', datax)"
   ]
  },
  {
   "cell_type": "code",
   "execution_count": 4,
   "id": "b8ea7db0-fdf0-4a74-8fd6-331e939a6ed1",
   "metadata": {},
   "outputs": [
    {
     "name": "stdout",
     "output_type": "stream",
     "text": [
      "(178, 3)\n"
     ]
    }
   ],
   "source": [
    "# output data (output x)\n",
    "datay =[]\n",
    "\n",
    "for i in range(178):\n",
    "    data = []\n",
    "    data.append(df1.iloc[i,8])\n",
    "    data.append(df1.iloc[i, 9])\n",
    "    data.append(df1.iloc[i, 10])\n",
    "    datay.append(data)\n",
    "\n",
    "datay = np.array(datay)\n",
    "print(datay.shape)\n",
    "np.save('./Data/datay.npy', datay)"
   ]
  },
  {
   "cell_type": "code",
   "execution_count": null,
   "id": "d162e224-06e1-46b7-86d1-127d84241cde",
   "metadata": {},
   "outputs": [],
   "source": []
  }
 ],
 "metadata": {
  "kernelspec": {
   "display_name": "Python 3 (ipykernel)",
   "language": "python",
   "name": "python3"
  },
  "language_info": {
   "codemirror_mode": {
    "name": "ipython",
    "version": 3
   },
   "file_extension": ".py",
   "mimetype": "text/x-python",
   "name": "python",
   "nbconvert_exporter": "python",
   "pygments_lexer": "ipython3",
   "version": "3.12.5"
  }
 },
 "nbformat": 4,
 "nbformat_minor": 5
}
